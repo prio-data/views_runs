{
 "cells": [
  {
   "cell_type": "code",
   "execution_count": 67,
   "id": "76ec3f97",
   "metadata": {},
   "outputs": [],
   "source": [
    "from viewser import Queryset, Column\n",
    "from functools import partial\n",
    "from viewser.operations import fetch\n",
    "from sklearn.svm import SVR\n",
    "from sklearn.metrics import r2_score\n",
    "import pandas as pd\n",
    "from matplotlib import pyplot as plt\n",
    "import views_runs"
   ]
  },
  {
   "cell_type": "code",
   "execution_count": 76,
   "id": "4e8f692c",
   "metadata": {},
   "outputs": [
    {
     "name": "stderr",
     "output_type": "stream",
     "text": [
      "INFO:viewser.operations:Queryset \"fatalities_paper\" is being compiled... (0 retries)\n",
      "INFO:viewser.operations:Queryset \"fatalities_paper\" is being compiled... (1 retries)\n",
      "INFO:viewser.operations:Queryset \"fatalities_paper\" is being compiled... (2 retries)\n"
     ]
    },
    {
     "data": {
      "text/html": [
       "<div>\n",
       "<style scoped>\n",
       "    .dataframe tbody tr th:only-of-type {\n",
       "        vertical-align: middle;\n",
       "    }\n",
       "\n",
       "    .dataframe tbody tr th {\n",
       "        vertical-align: top;\n",
       "    }\n",
       "\n",
       "    .dataframe thead th {\n",
       "        text-align: right;\n",
       "    }\n",
       "</style>\n",
       "<table border=\"1\" class=\"dataframe\">\n",
       "  <thead>\n",
       "    <tr style=\"text-align: right;\">\n",
       "      <th></th>\n",
       "      <th></th>\n",
       "      <th>ged_fatalities</th>\n",
       "      <th>ged_fatalities_lagged_1</th>\n",
       "      <th>ged_fatalities_lagged_2</th>\n",
       "    </tr>\n",
       "    <tr>\n",
       "      <th>month_id</th>\n",
       "      <th>country_id</th>\n",
       "      <th></th>\n",
       "      <th></th>\n",
       "      <th></th>\n",
       "    </tr>\n",
       "  </thead>\n",
       "  <tbody>\n",
       "    <tr>\n",
       "      <th rowspan=\"5\" valign=\"top\">1</th>\n",
       "      <th>40</th>\n",
       "      <td>0.0</td>\n",
       "      <td>0.0</td>\n",
       "      <td>0.0</td>\n",
       "    </tr>\n",
       "    <tr>\n",
       "      <th>41</th>\n",
       "      <td>0.0</td>\n",
       "      <td>0.0</td>\n",
       "      <td>0.0</td>\n",
       "    </tr>\n",
       "    <tr>\n",
       "      <th>42</th>\n",
       "      <td>0.0</td>\n",
       "      <td>0.0</td>\n",
       "      <td>0.0</td>\n",
       "    </tr>\n",
       "    <tr>\n",
       "      <th>43</th>\n",
       "      <td>0.0</td>\n",
       "      <td>0.0</td>\n",
       "      <td>0.0</td>\n",
       "    </tr>\n",
       "    <tr>\n",
       "      <th>47</th>\n",
       "      <td>0.0</td>\n",
       "      <td>0.0</td>\n",
       "      <td>0.0</td>\n",
       "    </tr>\n",
       "  </tbody>\n",
       "</table>\n",
       "</div>"
      ],
      "text/plain": [
       "                     ged_fatalities  ged_fatalities_lagged_1  \\\n",
       "month_id country_id                                            \n",
       "1        40                     0.0                      0.0   \n",
       "         41                     0.0                      0.0   \n",
       "         42                     0.0                      0.0   \n",
       "         43                     0.0                      0.0   \n",
       "         47                     0.0                      0.0   \n",
       "\n",
       "                     ged_fatalities_lagged_2  \n",
       "month_id country_id                           \n",
       "1        40                              0.0  \n",
       "         41                              0.0  \n",
       "         42                              0.0  \n",
       "         43                              0.0  \n",
       "         47                              0.0  "
      ]
     },
     "execution_count": 76,
     "metadata": {},
     "output_type": "execute_result"
    }
   ],
   "source": [
    "data = fetch(\"fatalities_paper\")\n",
    "data.head()"
   ]
  },
  {
   "cell_type": "code",
   "execution_count": 68,
   "id": "ee2798a0",
   "metadata": {},
   "outputs": [],
   "source": [
    "data_partitioner =  views_runs.DataPartitioner({\"A\":{\"train\":(1,399),\"test\":(400,450)}})\n",
    "models = views_runs.StepshiftedModels(SVR(),[1,2,3,4],\"ged_sum\")\n",
    "run = views_runs.ViewsRun(data_partitioner,models)"
   ]
  },
  {
   "cell_type": "code",
   "execution_count": 69,
   "id": "295f8532",
   "metadata": {},
   "outputs": [],
   "source": [
    "run.fit(\"A\",\"train\",data)"
   ]
  },
  {
   "cell_type": "code",
   "execution_count": 70,
   "id": "098b337b",
   "metadata": {},
   "outputs": [
    {
     "data": {
      "text/html": [
       "<div>\n",
       "<style scoped>\n",
       "    .dataframe tbody tr th:only-of-type {\n",
       "        vertical-align: middle;\n",
       "    }\n",
       "\n",
       "    .dataframe tbody tr th {\n",
       "        vertical-align: top;\n",
       "    }\n",
       "\n",
       "    .dataframe thead th {\n",
       "        text-align: right;\n",
       "    }\n",
       "</style>\n",
       "<table border=\"1\" class=\"dataframe\">\n",
       "  <thead>\n",
       "    <tr style=\"text-align: right;\">\n",
       "      <th></th>\n",
       "      <th></th>\n",
       "      <th>ged_sum</th>\n",
       "      <th>ged_sum_tlag_1</th>\n",
       "      <th>step_pred_1</th>\n",
       "      <th>step_pred_2</th>\n",
       "      <th>step_pred_3</th>\n",
       "      <th>step_pred_4</th>\n",
       "    </tr>\n",
       "    <tr>\n",
       "      <th>month_id</th>\n",
       "      <th>country_id</th>\n",
       "      <th></th>\n",
       "      <th></th>\n",
       "      <th></th>\n",
       "      <th></th>\n",
       "      <th></th>\n",
       "      <th></th>\n",
       "    </tr>\n",
       "  </thead>\n",
       "  <tbody>\n",
       "    <tr>\n",
       "      <th rowspan=\"5\" valign=\"top\">400</th>\n",
       "      <th>40</th>\n",
       "      <td>0.0</td>\n",
       "      <td>0.0</td>\n",
       "      <td>0.099467</td>\n",
       "      <td>0.099956</td>\n",
       "      <td>0.099887</td>\n",
       "      <td>0.100378</td>\n",
       "    </tr>\n",
       "    <tr>\n",
       "      <th>41</th>\n",
       "      <td>0.0</td>\n",
       "      <td>0.0</td>\n",
       "      <td>0.099467</td>\n",
       "      <td>0.099956</td>\n",
       "      <td>0.099887</td>\n",
       "      <td>0.100378</td>\n",
       "    </tr>\n",
       "    <tr>\n",
       "      <th>42</th>\n",
       "      <td>0.0</td>\n",
       "      <td>0.0</td>\n",
       "      <td>0.099467</td>\n",
       "      <td>0.099956</td>\n",
       "      <td>0.099887</td>\n",
       "      <td>0.100378</td>\n",
       "    </tr>\n",
       "    <tr>\n",
       "      <th>43</th>\n",
       "      <td>0.0</td>\n",
       "      <td>0.0</td>\n",
       "      <td>0.099467</td>\n",
       "      <td>0.099956</td>\n",
       "      <td>0.099887</td>\n",
       "      <td>0.100378</td>\n",
       "    </tr>\n",
       "    <tr>\n",
       "      <th>47</th>\n",
       "      <td>0.0</td>\n",
       "      <td>0.0</td>\n",
       "      <td>0.099467</td>\n",
       "      <td>0.099956</td>\n",
       "      <td>0.099887</td>\n",
       "      <td>0.100378</td>\n",
       "    </tr>\n",
       "    <tr>\n",
       "      <th>...</th>\n",
       "      <th>...</th>\n",
       "      <td>...</td>\n",
       "      <td>...</td>\n",
       "      <td>...</td>\n",
       "      <td>...</td>\n",
       "      <td>...</td>\n",
       "      <td>...</td>\n",
       "    </tr>\n",
       "    <tr>\n",
       "      <th rowspan=\"5\" valign=\"top\">450</th>\n",
       "      <th>242</th>\n",
       "      <td>0.0</td>\n",
       "      <td>0.0</td>\n",
       "      <td>0.099467</td>\n",
       "      <td>0.099956</td>\n",
       "      <td>0.099887</td>\n",
       "      <td>0.100378</td>\n",
       "    </tr>\n",
       "    <tr>\n",
       "      <th>243</th>\n",
       "      <td>0.0</td>\n",
       "      <td>0.0</td>\n",
       "      <td>0.099467</td>\n",
       "      <td>0.099956</td>\n",
       "      <td>0.099887</td>\n",
       "      <td>0.100378</td>\n",
       "    </tr>\n",
       "    <tr>\n",
       "      <th>244</th>\n",
       "      <td>0.0</td>\n",
       "      <td>0.0</td>\n",
       "      <td>0.099467</td>\n",
       "      <td>0.099956</td>\n",
       "      <td>0.099887</td>\n",
       "      <td>0.100378</td>\n",
       "    </tr>\n",
       "    <tr>\n",
       "      <th>245</th>\n",
       "      <td>10.0</td>\n",
       "      <td>31.0</td>\n",
       "      <td>6.133580</td>\n",
       "      <td>0.099956</td>\n",
       "      <td>0.099887</td>\n",
       "      <td>0.993295</td>\n",
       "    </tr>\n",
       "    <tr>\n",
       "      <th>246</th>\n",
       "      <td>30.0</td>\n",
       "      <td>75.0</td>\n",
       "      <td>6.809693</td>\n",
       "      <td>0.099956</td>\n",
       "      <td>0.099887</td>\n",
       "      <td>2.755230</td>\n",
       "    </tr>\n",
       "  </tbody>\n",
       "</table>\n",
       "<p>3366 rows × 6 columns</p>\n",
       "</div>"
      ],
      "text/plain": [
       "                     ged_sum  ged_sum_tlag_1  step_pred_1  step_pred_2  \\\n",
       "month_id country_id                                                      \n",
       "400      40              0.0             0.0     0.099467     0.099956   \n",
       "         41              0.0             0.0     0.099467     0.099956   \n",
       "         42              0.0             0.0     0.099467     0.099956   \n",
       "         43              0.0             0.0     0.099467     0.099956   \n",
       "         47              0.0             0.0     0.099467     0.099956   \n",
       "...                      ...             ...          ...          ...   \n",
       "450      242             0.0             0.0     0.099467     0.099956   \n",
       "         243             0.0             0.0     0.099467     0.099956   \n",
       "         244             0.0             0.0     0.099467     0.099956   \n",
       "         245            10.0            31.0     6.133580     0.099956   \n",
       "         246            30.0            75.0     6.809693     0.099956   \n",
       "\n",
       "                     step_pred_3  step_pred_4  \n",
       "month_id country_id                            \n",
       "400      40             0.099887     0.100378  \n",
       "         41             0.099887     0.100378  \n",
       "         42             0.099887     0.100378  \n",
       "         43             0.099887     0.100378  \n",
       "         47             0.099887     0.100378  \n",
       "...                          ...          ...  \n",
       "450      242            0.099887     0.100378  \n",
       "         243            0.099887     0.100378  \n",
       "         244            0.099887     0.100378  \n",
       "         245            0.099887     0.993295  \n",
       "         246            0.099887     2.755230  \n",
       "\n",
       "[3366 rows x 6 columns]"
      ]
     },
     "execution_count": 70,
     "metadata": {},
     "output_type": "execute_result"
    }
   ],
   "source": [
    "predictions = run.predict(\"A\",\"test\",data)\n",
    "predictions"
   ]
  },
  {
   "cell_type": "code",
   "execution_count": 71,
   "id": "eb9a2513",
   "metadata": {},
   "outputs": [
    {
     "name": "stdout",
     "output_type": "stream",
     "text": [
      "          name        r2\n",
      "0  step_pred_1 -0.006194\n",
      "1  step_pred_2 -0.015726\n",
      "2  step_pred_3 -0.014874\n",
      "3  step_pred_4 -0.016166\n"
     ]
    }
   ],
   "source": [
    "\n",
    "r2_score_ged = partial(r2_score,predictions[\"ged_sum\"])\n",
    "\n",
    "step_variables = [f\"step_pred_{i}\" for i in range(1,5)]\n",
    "\n",
    "score_data = pd.DataFrame({\"name\":step_variables})\n",
    "score_data[\"r2\"] = [r2_score_ged(predictions[v]) for v in step_variables]\n",
    "\n",
    "print(score_data)\n"
   ]
  },
  {
   "cell_type": "code",
   "execution_count": 72,
   "id": "b3e745db",
   "metadata": {},
   "outputs": [
    {
     "data": {
      "text/plain": [
       "[<matplotlib.lines.Line2D at 0x7fb14eae8910>]"
      ]
     },
     "execution_count": 72,
     "metadata": {},
     "output_type": "execute_result"
    },
    {
     "data": {
      "image/png": "[encoded data removed]",
      "text/plain": [
       "<Figure size 432x288 with 1 Axes>"
      ]
     },
     "metadata": {
      "needs_background": "light"
     },
     "output_type": "display_data"
    }
   ],
   "source": [
    "c220 = predictions.query(\"country_id == 220\")\n",
    "plt.plot(c220[\"ged_sum\"].values,color = \"blue\")\n",
    "plt.plot(c220[\"step_pred_1\"].values, color = \"red\")\n"
   ]
  },
  {
   "cell_type": "code",
   "execution_count": null,
   "id": "27811be3",
   "metadata": {},
   "outputs": [],
   "source": []
  }
 ],
 "metadata": {
  "kernelspec": {
   "display_name": "Python 3 (ipykernel)",
   "language": "python",
   "name": "python3"
  },
  "language_info": {
   "codemirror_mode": {
    "name": "ipython",
    "version": 3
   },
   "file_extension": ".py",
   "mimetype": "text/x-python",
   "name": "python",
   "nbconvert_exporter": "python",
   "pygments_lexer": "ipython3",
   "version": "3.8.12"
  }
 },
 "nbformat": 4,
 "nbformat_minor": 5
}
